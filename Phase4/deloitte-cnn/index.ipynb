{
  "cells": [
    {
      "cell_type": "markdown",
      "metadata": {
        "id": "jVOtlo1QnMwz"
      },
      "source": [
        "# TensorFlow and TensorBoard with Evaluation\n",
        "\n"
      ]
    },
    {
      "cell_type": "markdown",
      "metadata": {
        "id": "J9BDVGNbbEaX"
      },
      "source": [
        "## Purpose"
      ]
    },
    {
      "cell_type": "markdown",
      "metadata": {
        "id": "_QrFX6SUnUwC"
      },
      "source": [
        "The purpose of this lab is twofold.  \n",
        "\n",
        "1.   to review using `TensorFlow` for modeling and evaluation with neural networks\n",
        "2.   to learn about [`TensorBoard`](https://www.tensorflow.org/tensorboard)\n",
        "\n",
        "`TensorBoard` is `TensorFlow`'s visualization toolkit, so it is a dashboard that provides visualization and tooling that is needed for machine learning experimentation. \n",
        "\n",
        "We'll be using the canonical [Titanic Data Set](https://www.kaggle.com/competitions/titanic/overview)."
      ]
    },
    {
      "cell_type": "markdown",
      "metadata": {
        "id": "unefoXqXYRxD"
      },
      "source": [
        "## The Titanic"
      ]
    },
    {
      "cell_type": "markdown",
      "metadata": {
        "id": "GDT8p0nBZjVX"
      },
      "source": [
        "### The Titanic and it's data"
      ]
    },
    {
      "cell_type": "markdown",
      "metadata": {
        "id": "r2UPXuXmZxj5"
      },
      "source": [
        "\n",
        "\n",
        "RMS Titanic was a British passenger liner built by Harland and Wolf and operated by the White Star Line. It sank in the North Atlantic Ocean in the early morning hours of 15 April 1912, after striking an iceberg during her maiden voyage from Southampton, England to New York City, USA.\n",
        "\n",
        "Of the estimated 2,224 passengers and crew aboard, more than 1,500 died, making the sinking one of modern history's deadliest peacetime commercial marine disasters. \n",
        "\n",
        "Though there were about 2,224 passengers and crew members, we are given data of about 1,300 passengers. Out of these 1,300 passengers details, about 900 data is used for training purpose and remaining 400 is used for test purpose. The test data has had the survived column removed and we'll use neural networks to predict whether the passengers in the test data survived or not. Both training and test data are not perfectly clean as we'll see."
      ]
    },
    {
      "cell_type": "markdown",
      "metadata": {
        "id": "TejSm5Jcyh7o"
      },
      "source": [
        "Below is a picture of the Titanic Museum in Belfast, Northern Ireland."
      ]
    },
    {
      "cell_type": "code",
      "execution_count": null,
      "metadata": {
        "colab": {
          "base_uri": "https://localhost:8080/"
        },
        "id": "n_o3ZveKwDxR",
        "outputId": "8f51437c-fbae-4f63-b669-913a54267d4f"
      },
      "outputs": [
        {
          "data": {
            "text/html": [
              "<img src=\"https://upload.wikimedia.org/wikipedia/commons/c/c0/Titanic_Belfast_HDR.jpg\" width=\"400\" height=\"400\"/>"
            ],
            "text/plain": [
              "<IPython.core.display.Image object>"
            ]
          },
          "execution_count": 1,
          "metadata": {},
          "output_type": "execute_result"
        }
      ],
      "source": [
        "from IPython.display import Image\n",
        "from IPython.core.display import HTML \n",
        "Image(url= \"https://upload.wikimedia.org/wikipedia/commons/c/c0/Titanic_Belfast_HDR.jpg\", width=400, height=400)"
      ]
    },
    {
      "cell_type": "markdown",
      "metadata": {
        "id": "UO5Qrri1Zz9b"
      },
      "source": [
        "### Data Dictionary"
      ]
    },
    {
      "cell_type": "markdown",
      "metadata": {
        "id": "LJTNWdE1ZmI2"
      },
      "source": [
        "*   *Survival* : 0 = No, 1 = Yes\n",
        "*   *Pclass* : A proxy for socio-economic status (SES)\n",
        "  *   1st = Upper\n",
        "  *   2nd = Middle\n",
        "  *   3rd = Lower\n",
        "*   *sibsp* : The number of siblings / spouses aboard the Titanic\n",
        "  *   Sibling = brother, sister, stepbrother, stepsister\n",
        "  *   Spouse = husband, wife (mistresses and fiancés were ignored)\n",
        "*   *parch* : The # of parents / children aboard the Titanic\n",
        "  *   Parent = mother, father\n",
        "  *   Child = daughter, son, stepdaughter, stepson\n",
        "  *   Some children travelled only with a nanny, therefore *parch*=0 for them.\n",
        "*   *Ticket* : Ticket number\n",
        "*   *Fare* : Passenger fare (British pounds)\n",
        "*   *Cabin* : Cabin number embarked\n",
        "*   *Embarked* : Port of Embarkation\n",
        "  *   C = Cherbourg (now Cherbourg-en-Cotentin), France\n",
        "  *   Q = Queenstown (now Cobh), Ireland\n",
        "  *   S = Southampton, England\n",
        "*   *Name*, *Sex*, *Age* (years) are all self-explanatory"
      ]
    },
    {
      "cell_type": "markdown",
      "metadata": {
        "id": "1adtHjJCE5sd"
      },
      "source": [
        "## Libraries and the Data\n",
        "\n"
      ]
    },
    {
      "cell_type": "markdown",
      "metadata": {
        "id": "Zoz_n8VnFdxB"
      },
      "source": [
        "### Importing libraries"
      ]
    },
    {
      "cell_type": "code",
      "execution_count": null,
      "metadata": {
        "id": "lS0qLxZmnLHw"
      },
      "outputs": [],
      "source": [
        "# Load the germane libraries\n",
        "\n",
        "import pandas as pd\n",
        "import numpy as np\n",
        "import seaborn as sns \n",
        "from pandas._libs.tslibs import timestamps\n",
        "import matplotlib.pyplot as plt\n",
        "%matplotlib inline\n",
        "\n",
        "from sklearn.preprocessing import StandardScaler\n",
        "\n",
        "import tensorflow as tf\n",
        "import keras \n",
        "from keras import models\n",
        "from keras.layers import Dense\n",
        "from keras.models import Sequential\n",
        "from keras.losses import binary_crossentropy\n",
        "from keras.wrappers.scikit_learn import KerasClassifier\n",
        "\n",
        "# Load the TensorBoard notebook extension and related libraries\n",
        "%load_ext tensorboard\n",
        "import datetime"
      ]
    },
    {
      "cell_type": "markdown",
      "metadata": {
        "id": "Z-ljPxHFaf3_"
      },
      "source": [
        "### Loading the data"
      ]
    },
    {
      "cell_type": "code",
      "execution_count": null,
      "metadata": {
        "id": "NXuO8yi1EjaX"
      },
      "outputs": [],
      "source": [
        "# Load the data\n",
        "\n",
        "train = pd.read_csv('train.csv')\n",
        "test = pd.read_csv('test.csv')\n",
        "\n",
        "# We need to do this for when we mamke our predictions from the test data at the end\n",
        "ids = test[['PassengerId']]"
      ]
    },
    {
      "cell_type": "markdown",
      "metadata": {
        "id": "kpMM9RGkam8n"
      },
      "source": [
        "## EDA and Preprocessing"
      ]
    },
    {
      "cell_type": "markdown",
      "metadata": {
        "id": "Cth9IzJyFMfB"
      },
      "source": [
        "### Exploratory Data Analysis"
      ]
    },
    {
      "cell_type": "markdown",
      "metadata": {
        "id": "O33PqcFJ2I0L"
      },
      "source": [
        "It is your choice how much or how little EDA that you perform. But you should do enough EDA that you feel comfortable with the data and what you'll need to do to make it so that you can run a neural network on it.\n",
        "\n",
        "It is prudent to investigate the attributes of the data frames, create visualizations, and perform data analysis."
      ]
    },
    {
      "cell_type": "markdown",
      "metadata": {
        "id": "RTBTMLo2LmX8"
      },
      "source": [
        "### Preprocessing"
      ]
    },
    {
      "cell_type": "markdown",
      "metadata": {
        "id": "x_MSWuALx6O_"
      },
      "source": [
        "Here are some suggestions:\n",
        "\n",
        "*   Check to see if you have missing data in the train and test sets.\n",
        "*   Combine the test and train sets into a dataframe called *combined* since it will make preprocessing more efficient\n",
        "*   Use the median of the column to replace missing data for numeric values\n",
        "*   Use the mode of the column to replace missing data for categorical values\n",
        "*   Change *Pclass* from 1, 2, 3, to 1st, 2nd, 3rd\n",
        "*   Create a new variable *Child*, where you use the *Age* column to assign those who are 18 years or older a 1, and those younger a 0\n",
        "*   For *Sex*, let Male = 0 and Female = 1\n",
        "*   For *Embarked*, Q=0, S=1, and S=2\n",
        "*   The names of the passengers are not meaningful for the model, but their titles may be.\n",
        "  * Use the **Code Chunk 1** below to help you with this.\n",
        "*   Drop the irrelevant columns: *PassengerId*, *Name*, *Ticket*, *Cabin* and use `get_dummies`\n",
        "  * Use the **Code Chunk 2** below to help you with this.\n",
        "*  Resplit and scale the data.\n",
        "  * Use the **Code Chunk 3** below to help you with this.\n",
        "\n",
        "Of course, for the two code chunks you need to uncomment the germane lines of code."
      ]
    },
    {
      "cell_type": "markdown",
      "metadata": {
        "id": "Fi3wkO8p8AlB"
      },
      "source": [
        "**Code Chunk 1** Titles"
      ]
    },
    {
      "cell_type": "code",
      "execution_count": null,
      "metadata": {
        "id": "grIYWsljkf-j"
      },
      "outputs": [],
      "source": [
        "# Break up the string that has the title and names\n",
        "#combined['Title'] = combined['Name'].str.split('.').str.get(0)  # output : 'Futrelle, Mrs'\n",
        "#combined['Title'] = combined['Title'].str.split(',').str.get(1) # output : 'Mrs '\n",
        "#combined['Title'] = combined['Title'].str.strip()               # output : 'Mrs'\n",
        "#combined.groupby('Title').count()\n",
        "\n",
        "# Replace the French titles with Enlgish\n",
        "#french_titles = ['Don', 'Dona', 'Mme', 'Ms', 'Mra','Mlle']\n",
        "#english_titles = ['Mr', 'Mrs','Mrs','Mrs','Mrs','Miss']\n",
        "#for i in range(len(french_titles)):\n",
        "#    for j in range(len(english_titles)):\n",
        "#        if i == j:\n",
        "#            combined['Title'] = combined['Title'].str.replace(french_titles[i],english_titles[j])\n",
        "\n",
        "# Seperate the titles into \"major\" and \"others\", the latter would be, e.g., Reverend\n",
        "#major_titles = ['Mr','Mrs','Miss','Master']\n",
        "#combined['Title'] = combined['Title'].apply(lambda title: title if title in major_titles else 'Others')"
      ]
    },
    {
      "cell_type": "markdown",
      "metadata": {
        "id": "KtLss24OlsOM"
      },
      "source": [
        "**Code Chunk 2** Dropping and Dummies"
      ]
    },
    {
      "cell_type": "code",
      "execution_count": null,
      "metadata": {
        "colab": {
          "base_uri": "https://localhost:8080/"
        },
        "id": "LMNN9qZ3m48T",
        "outputId": "34e8eb4a-c9f2-4935-c7ee-3b3250ae48ef"
      },
      "outputs": [
        {
          "name": "stderr",
          "output_type": "stream",
          "text": [
            "/usr/local/lib/python3.7/dist-packages/ipykernel_launcher.py:2: FutureWarning: In a future version of pandas all arguments of DataFrame.drop except for the argument 'labels' will be keyword-only\n",
            "  \n"
          ]
        }
      ],
      "source": [
        "#Dropping the Irrelevant Columns\n",
        "#combined.drop(['PassengerId','Name','Ticket','Cabin'], axis=1, inplace=True)\n",
        "\n",
        "# Getting Dummy Variables and Dropping the Original Categorical Variables\n",
        "#categorical_vars = combined[['Pclass','Sex','Embarked','Title','Child']] # Get Dummies of Categorical Variables\n",
        "#dummies = pd.get_dummies(categorical_vars,drop_first=True)\n",
        "#combined = combined.drop(['Pclass','Sex','Embarked','Title','Child'],axis=1)\n",
        "#combined = pd.concat([combined, dummies],axis=1)"
      ]
    },
    {
      "cell_type": "markdown",
      "metadata": {
        "id": "i5pU1kXAd2Jb"
      },
      "source": [
        "**Code Chunk 3** Resplitting and scalling the data"
      ]
    },
    {
      "cell_type": "code",
      "execution_count": null,
      "metadata": {
        "id": "NBta5oeRd--9"
      },
      "outputs": [],
      "source": [
        "# Separating the data back into train and test sets\n",
        "#test = combined[combined['Survived'].isnull()].drop(['Survived'],axis=1)\n",
        "#train = combined[combined['Survived'].notnull()]\n",
        "\n",
        "# Training\n",
        "#X_train = train.drop(['Survived'],axis=1)\n",
        "#y_train = train['Survived']\n",
        "\n",
        "# Scaling\n",
        "#sc = StandardScaler()\n",
        "#X_train = sc.fit_transform(X_train)\n",
        "#test = sc.fit_transform(test)"
      ]
    },
    {
      "cell_type": "markdown",
      "metadata": {
        "id": "DAC11ZbUU2QP"
      },
      "source": [
        "## Neural Network Model"
      ]
    },
    {
      "cell_type": "markdown",
      "metadata": {
        "id": "jXVpYyEheuns"
      },
      "source": [
        "### Building the model"
      ]
    },
    {
      "cell_type": "markdown",
      "metadata": {
        "id": "d01WQXssfF_9"
      },
      "source": [
        "#### Define the model as a pipeline"
      ]
    },
    {
      "cell_type": "markdown",
      "metadata": {
        "id": "2_UK7p_szRKy"
      },
      "source": [
        "Let's use the data science pipeline for our neural network model."
      ]
    },
    {
      "cell_type": "code",
      "execution_count": 3,
      "metadata": {
        "id": "y36TQucVRl6P"
      },
      "outputs": [],
      "source": [
        "# It will help to define our model in terms of a pipeline\n",
        "def build_classifier(optimizer):\n",
        "    classifier = Sequential()\n",
        "    # use classifer.add() to add layers\n",
        "    # \n",
        "    # ... \n",
        "    #\n",
        "    # use classifer.compile() as your last line of the definition; use loss='binary_crossentropy',metrics=['accuracy']\n",
        "    return classifier\n",
        "\n",
        "# Note: Do not use regularization methods or GridSearch. Those will be for next time!"
      ]
    },
    {
      "cell_type": "markdown",
      "metadata": {
        "id": "aZdTduwM2pek"
      },
      "source": [
        "#### Fitting the optimal model and evaluating with `TensorBoaard`"
      ]
    },
    {
      "cell_type": "markdown",
      "metadata": {
        "id": "mxPY-mYffZLI"
      },
      "source": [
        "#### `TensorBoard`"
      ]
    },
    {
      "cell_type": "markdown",
      "metadata": {
        "id": "gojep38STZCg"
      },
      "source": [
        "`TensorBoard` is `TensorFlow`'s visualization toolkit. It is a dashboard that provides visualization and tooling that is needed for machine learning experimentation. The code immediately below will allow us to use TensorBoard.\n",
        "\n",
        "N.B. When we loaded the libraries, we loaded the TensorBoard notebook extension. (It is the last line of code in the first code chunk.)"
      ]
    },
    {
      "cell_type": "code",
      "execution_count": null,
      "metadata": {
        "id": "rpclz6HWTafA"
      },
      "outputs": [],
      "source": [
        "# Clear out any prior log data.\n",
        "!rm -rf logs\n",
        "# Be careful not to run this command if already have trained your model and you want to use TensorBoard.\n",
        "\n",
        "# Sets up a timestamped log directory\n",
        "log_dir = \"logs/fit/\" + datetime.datetime.now().strftime(\"%Y%m%d-%H%M%S\")\n",
        "\n",
        "# Creates a file writer for the log directory.\n",
        "file_writer = tf.summary.create_file_writer(log_dir)\n",
        "\n",
        "\n",
        "# The callback function, which will be called in the fit()\n",
        "tensorboard_callback = tf.keras.callbacks.TensorBoard(log_dir=log_dir, histogram_freq=1)"
      ]
    },
    {
      "cell_type": "markdown",
      "metadata": {
        "id": "jJR7Qdo3f2zV"
      },
      "source": [
        "#### Fitting the optimal model and evaluating with `TensorBoaard`"
      ]
    },
    {
      "cell_type": "code",
      "execution_count": null,
      "metadata": {
        "id": "swULa4QCUC83"
      },
      "outputs": [],
      "source": [
        "# Using KerasClassifier\n",
        "\n",
        "# Replace the optimizer, batch_size, and epochs appropriately\n",
        "classifier = KerasClassifier(build_fn = build_classifier,\n",
        "                             optimizer='none',\n",
        "                             batch_size='none',\n",
        "                             epochs='none')\n",
        "\n",
        "# Fit the model with the tensorboard_callback\n",
        "\n",
        "# DELETE THESE TWO LINES OF CODE BELOW\n",
        "X_train = []\n",
        "y_train = []\n",
        "# WE DID THIS JUST TO MAKE THE .ipynb HAPPY\n",
        "\n",
        "classifier.fit(X_train,\n",
        "               y_train,\n",
        "               verbose=1,\n",
        "               callbacks=[tensorboard_callback])\n",
        "\n",
        "\n",
        "# Warning: If verbose = 0 (silent) or 2 (one line per epoch), then on TensorBoard's Graphs tab there will be an error.\n",
        "# The other tabs in TensorBoard will still be function, but if you want the graphs then verbose needs to be 1 (progress bar)."
      ]
    },
    {
      "cell_type": "code",
      "execution_count": null,
      "metadata": {
        "id": "IxrM5s8qgAfy"
      },
      "outputs": [],
      "source": [
        "# Call TensorBoard\n",
        "import os\n",
        "print(f\"https://{os.getenv('SATURN_JUPYTER_BASE_DOMAIN')}/proxy/8000/\")\n",
        "%tensorboard --logdir logs/fit --port 8000 --bind_all"
      ]
    },
    {
      "cell_type": "markdown",
      "metadata": {
        "id": "fx3aSuzagU35"
      },
      "source": [
        "#### Results and Predictions"
      ]
    },
    {
      "cell_type": "code",
      "execution_count": 2,
      "metadata": {
        "id": "-wEYDe-CzeVG"
      },
      "outputs": [],
      "source": [
        "# This will export your predictions to a .csv. Uncomment.\n",
        "\n",
        "#preds = classifier.predict(test)\n",
        "#results = ids.assign(Survived=preds)\n",
        "#results['Survived'] = results['Survived'].apply(lambda row: 1 if row > 0.5 else 0)\n",
        "#results.to_csv('titanic_submission.csv',index=False)\n",
        "#results.head(20)"
      ]
    },
    {
      "cell_type": "markdown",
      "metadata": {
        "id": "4xd1lF1f9T4w"
      },
      "source": [
        "Continue to tweak your model until you are happy with the results based on model evaluation."
      ]
    },
    {
      "cell_type": "markdown",
      "metadata": {
        "id": "1T1ej4W68j-T"
      },
      "source": [
        "## Conclusion"
      ]
    },
    {
      "cell_type": "markdown",
      "metadata": {
        "id": "XHW7vUl19I9R"
      },
      "source": [
        "Now that you have the `TensorBoard` to help you look at your model, you can better understand how to tweak your model.\n",
        "\n",
        "We'll continue with this for the next lesson when we learn about model regularization."
      ]
    }
  ],
  "metadata": {
    "colab": {
      "collapsed_sections": [],
      "provenance": []
    },
    "kernelspec": {
      "display_name": "Python 3",
      "name": "python3"
    },
    "language_info": {
      "name": "python"
    }
  },
  "nbformat": 4,
  "nbformat_minor": 0
}

{
 "cells": [
  {
   "cell_type": "markdown",
   "metadata": {},
   "source": [
    "# Exploratory Data Analysis on Housing Dataset\n",
    "\n",
    "## Congratulations!!\n",
    "\n",
    "<img src=\"https://curriculum-content.s3.amazonaws.com/data-science/images/awesome.gif\" alt='image of a man motioning in celebration of your progress'>\n",
    "\n",
    "## Introduction\n",
    "\n",
    "In this lesson you will use all of the information you have learned and do a short project. You will take a look at the provided dataset and gather some insight that you will share in a short presentation. You have been provided with some starter code, but please explore different features and look for more meaningful insight.\n",
    "\n",
    "The ultimate purpose of exploratory analysis is not just to learn about the data, but to help an organization perform better. Explicitly relate your findings to business needs by recommending actions that you think an investor should take if they were shopping for property in this area.\n",
    "\n",
    "## Objectives\n",
    "* Perform basic data analysis\n",
    "* Communicate analysis results\n",
    "\n",
    "## Dataset Overview\n",
    "\n",
    "The dataset provides information about various properties, including details such as price, number of bedrooms and bathrooms, square footage, location, and more. The data can be found in this repository, the file name is `housing_data.csv`. Below is a description of each of the columns ('features'):\n",
    "\n",
    "* id - unique identified for a house\n",
    "* dateDate - house was sold\n",
    "* pricePrice - is prediction target\n",
    "* bedroomsNumber - of Bedrooms/House\n",
    "* bathroomsNumber - of bathrooms/bedrooms\n",
    "* sqft_livingsquare - footage of the home\n",
    "* sqft_lotsquare - footage of the lot\n",
    "* floorsTotal - floors (levels) in house\n",
    "* waterfront - House which has a view to a waterfront\n",
    "* view - Has been viewed\n",
    "* condition - How good the condition is ( Overall )\n",
    "* grade - overall grade given to the housing unit, based on King County grading system\n",
    "* sqft_above - square footage of house apart from basement\n",
    "* sqft_basement - square footage of the basement\n",
    "* yr_built - Built Year\n",
    "* yr_renovated - Year when house was renovated\n",
    "* zipcode - zip\n",
    "* lat - Latitude coordinate\n",
    "* long - Longitude coordinate\n",
    "* sqft_living15 - The square footage of interior housing living space for the nearest 15 neighbors\n",
    "* sqft_lot15 - The square footage of the land lots of the nearest 15 neighbors"
   ]
  },
  {
   "cell_type": "markdown",
   "metadata": {},
   "source": [
    "## Getting Started\n",
    "Begin by loading the dataset and taking a quick look at its structure."
   ]
  },
  {
   "cell_type": "code",
   "execution_count": null,
   "metadata": {},
   "outputs": [],
   "source": [
    "import pandas as pd\n",
    "\n",
    "# Load the dataset\n",
    "with open('housing_data.csv', 'w')as f:\n",
    "    data = f.read()\n",
    "\n",
    "df = # add the code here to load 'data' into a pandas dataframe\n",
    "\n",
    "# Display the first few rows of the dataset\n",
    "\n"
   ]
  },
  {
   "cell_type": "markdown",
   "metadata": {},
   "source": [
    "## Data Cleaning\n",
    "Before you dive into the analysis, it's essential to ensure the data is clean and ready for exploration. Take some time to look inspect your data and handle missing values and anomalies. Use the following code cell for any data cleaning processes."
   ]
  },
  {
   "cell_type": "code",
   "execution_count": null,
   "metadata": {},
   "outputs": [],
   "source": [
    "# Data cleaning\n",
    "# Handle missing values and anomalies\n"
   ]
  },
  {
   "cell_type": "markdown",
   "metadata": {},
   "source": [
    "## Descriptive Statistics\n",
    "Now, let's calculate some descriptive statistics to understand the distribution of numerical columns in the dataset. Use the following code cell to get some basic information about your data."
   ]
  },
  {
   "cell_type": "code",
   "execution_count": null,
   "metadata": {},
   "outputs": [],
   "source": [
    "# Descriptive statistics\n",
    "# Calculate mean, median, standard deviation, percentiles, etc.\n"
   ]
  },
  {
   "cell_type": "markdown",
   "metadata": {},
   "source": [
    "## Categorical Insights\n",
    "Exploring categorical features can provide valuable insights into property distribution across different categories. Start by analyzing the distribution of property conditions."
   ]
  },
  {
   "cell_type": "code",
   "execution_count": null,
   "metadata": {},
   "outputs": [],
   "source": [
    "# Categorical insights\n",
    "# Count occurrences of different categories.\n",
    "\n"
   ]
  },
  {
   "cell_type": "markdown",
   "metadata": {},
   "source": [
    "## Visualization: Property Price Distribution Histogram\n",
    "Visualizing the distribution of property prices can help us understand the price range that is most common in the market."
   ]
  },
  {
   "cell_type": "code",
   "execution_count": null,
   "metadata": {},
   "outputs": [],
   "source": [
    "import matplotlib.pyplot as plt\n",
    "\n",
    "# Visualization: Property Price Distribution Histogram\n",
    "plt.figure(figsize=(10, 6))\n",
    "plt.hist(df['price'], bins=20, color='blue', alpha=0.7)\n",
    "plt.title('Property Price Distribution')\n",
    "plt.xlabel('Price')\n",
    "plt.ylabel('Frequency')\n",
    "plt.show()\n"
   ]
  },
  {
   "cell_type": "markdown",
   "metadata": {},
   "source": [
    "## Visualization: Property Size vs. Price Scatter Plot\n",
    "Let's create a scatter plot to explore the relationship between property size and price."
   ]
  },
  {
   "cell_type": "code",
   "execution_count": null,
   "metadata": {},
   "outputs": [],
   "source": [
    "# Visualization: Property Size vs. Price Scatter Plot\n",
    "plt.figure(figsize=(10, 6))\n",
    "plt.scatter(df['sqft_living'], df['price'], alpha=0.5)\n",
    "plt.title('Property Size vs. Price')\n",
    "plt.xlabel('Square Footage')\n",
    "plt.ylabel('Price')\n",
    "plt.show()\n"
   ]
  },
  {
   "cell_type": "markdown",
   "metadata": {},
   "source": [
    "## Visualization: Geographic Distribution using Latitude and Longitude\n",
    "This scatter plot will visualize the geographic distribution of properties using latitude and longitude, with color indicating property prices."
   ]
  },
  {
   "cell_type": "code",
   "execution_count": null,
   "metadata": {},
   "outputs": [],
   "source": [
    "# Visualization: Geographic Distribution using Latitude and Longitude\n",
    "plt.figure(figsize=(12, 8))\n",
    "plt.scatter(df['long'], df['lat'], alpha=0.5, c=df['price'], cmap='coolwarm')\n",
    "plt.title('Geographic Distribution of Properties')\n",
    "plt.xlabel('Longitude')\n",
    "plt.ylabel('Latitude')\n",
    "plt.colorbar(label='Price')\n",
    "plt.show()\n"
   ]
  },
  {
   "cell_type": "markdown",
   "metadata": {},
   "source": [
    "## Visualization: Property Condition Bar Chart\n",
    "A bar chart can provide insights into the distribution of properties across different conditions."
   ]
  },
  {
   "cell_type": "code",
   "execution_count": null,
   "metadata": {},
   "outputs": [],
   "source": [
    "# Visualization: Property Condition Bar Chart\n",
    "plt.figure(figsize=(10, 6))\n",
    "condition_counts.plot(kind='bar', color='green', alpha=0.7)\n",
    "plt.title('Property Condition Distribution')\n",
    "plt.xlabel('Condition')\n",
    "plt.ylabel('Number of Properties')\n",
    "plt.xticks(rotation=0)\n",
    "plt.show()\n"
   ]
  },
  {
   "cell_type": "markdown",
   "metadata": {},
   "source": [
    "Visualization: Number of Bedrooms and Bathrooms Correlation\n",
    "Finally, let's explore the correlation between the number of bedrooms and bathrooms in properties using a scatter plot."
   ]
  },
  {
   "cell_type": "code",
   "execution_count": null,
   "metadata": {},
   "outputs": [],
   "source": [
    "# Visualization: Number of Bedrooms and Bathrooms Correlation\n",
    "plt.figure(figsize=(10, 6))\n",
    "plt.scatter(df['bedrooms'], df['bathrooms'], alpha=0.5, color='purple')\n",
    "plt.title('Bedrooms vs. Bathrooms Correlation')\n",
    "plt.xlabel('Number of Bedrooms')\n",
    "plt.ylabel('Number of Bathrooms')\n",
    "plt.show()\n"
   ]
  },
  {
   "cell_type": "markdown",
   "metadata": {},
   "source": [
    "## Presentation Prompt\n",
    "Now that we have completed the analysis and visualizations, your task is to prepare a short presentation describing the insights obtained from the analysis. Focus on the key findings, trends, and patterns you observed. Your presentation should be concise and informative, highlighting the investor relevant insights drawn from the data."
   ]
  }
 ],
 "metadata": {
  "kernelspec": {
   "display_name": "learn-env",
   "language": "python",
   "name": "python3"
  },
  "language_info": {
   "name": "python",
   "version": "3.8.5"
  },
  "orig_nbformat": 4
 },
 "nbformat": 4,
 "nbformat_minor": 2
}
